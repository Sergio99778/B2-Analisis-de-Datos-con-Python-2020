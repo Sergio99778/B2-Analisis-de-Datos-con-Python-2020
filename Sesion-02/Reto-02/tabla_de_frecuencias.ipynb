{
 "cells": [
  {
   "cell_type": "markdown",
   "metadata": {},
   "source": [
    "## Reto 2: Tablas de frecuencias\n",
    "\n",
    "### 1. Objetivos:\n",
    "    - Aprender a generar tablas de frecuencias segmentando nuestros datos\n",
    " \n",
    "---\n",
    "    \n",
    "### 2. Desarrollo:"
   ]
  },
  {
   "cell_type": "markdown",
   "metadata": {},
   "source": [
    "#### a) Analizando distribución con tablas de frecuencias\n",
    "\n",
    "Vamos a generar tablas de frecuencias de los siguientes datasets y columnas:\n",
    "\n",
    "1. Dataset: 'near_earth_objects-jan_feb_1995-clean.csv'\n",
    "    - Columnas a graficar: 'estimated_diameter.meters.estimated_diameter_max' y 'relative_velocity.kilometers_per_second'\n",
    "2. Dataset: 'new_york_times_bestsellers-clean.json'\n",
    "    - Columnas a graficar: 'price.numberDouble'\n",
    "3. Dataset: 'melbourne_housing-clean.csv'\n",
    "    - Columnas a graficar: 'land_size'\n",
    "    \n",
    "Estos conjuntos de datos son los mismos que graficamos en el Reto anterior. Antes de generar las tablas de frecuencias, revisa el rango de tus conjuntos de datos y decide el número de segmentos adecuado para cada uno.\n",
    "\n",
    "Después, genera las tablas de frecuencias para cada uno de estos conjuntos de datos y compáralos con las gráficas de caja que realizaste en el Reto anterior. ¿Hay información nueva? ¿Qué ventajas o desventajas nos da esta nueva perspectiva?\n",
    "\n",
    "Piensa cuál de las dos aproximaciones (boxplots y tablas de frecuencia) resulta más útil para detectar valores atípicos. ¿O simplemente son útiles en diferentes contextos?"
   ]
  },
  {
   "cell_type": "code",
   "execution_count": 12,
   "metadata": {},
   "outputs": [],
   "source": [
    "import pandas as pd\n",
    "import seaborn as sns\n",
    "import matplotlib.pyplot as plt"
   ]
  },
  {
   "cell_type": "code",
   "execution_count": 13,
   "metadata": {},
   "outputs": [],
   "source": [
    "def generate_frequence_table(df, column, number_of_classes):\n",
    "    df = df.copy()\n",
    "    df['class'] = pd.cut(df[column], number_of_classes)\n",
    "    df = df.groupby('class').agg({column: ['count', 'min', 'max']})\n",
    "    df.columns = ['count', 'min', 'max']\n",
    "    df['range'] = df['max'] - df['min']\n",
    "    df['relative_frequency'] = df['count'] / df['count'].sum()\n",
    "    df['cumulative_relative_frequency'] = df['relative_frequency'].cumsum()\n",
    "    df = df[['min', 'max', 'range', 'count', 'relative_frequency', 'cumulative_relative_frequency']]\n",
    "    return df\n",
    "\n"
   ]
  },
  {
   "cell_type": "code",
   "execution_count": 14,
   "metadata": {},
   "outputs": [],
   "source": [
    "filenames = [\"near_earth_objects-jan_feb_1995-clean.csv\", \"new_york_times_bestsellers-clean.json\", \"melbourne_housing-clean.csv\"]\n",
    "near_earth_objects = pd.read_csv('../../Datasets/'+ filenames[0])\n",
    "new_york_times_bestsellers = pd.read_json('../../Datasets/'+ filenames[1])\n",
    "melbourne_housing = pd.read_csv('../../Datasets/'+ filenames[2])"
   ]
  },
  {
   "cell_type": "code",
   "execution_count": 15,
   "metadata": {},
   "outputs": [
    {
     "name": "stdout",
     "output_type": "stream",
     "text": [
      "                              min          max       range  count  \\\n",
      "class                                                               \n",
      "(-3.535, 654.369]        2.978791   651.688382  648.709592    274   \n",
      "(654.369, 1305.76]     682.401509  1300.289270  617.887761     42   \n",
      "(1305.76, 1957.15]    1425.738833  1794.898848  369.160015     10   \n",
      "(1957.15, 2608.541]   2259.643771  2594.418179  334.774408      2   \n",
      "(2608.541, 3259.931]  2844.722965  3119.176705  274.453740      2   \n",
      "(3259.931, 3911.322]  3266.178974  3750.075218  483.896244      2   \n",
      "(3911.322, 4562.712]          NaN          NaN         NaN      0   \n",
      "(4562.712, 5214.103]          NaN          NaN         NaN      0   \n",
      "(5214.103, 5865.493]          NaN          NaN         NaN      0   \n",
      "(5865.493, 6516.884]  6516.883822  6516.883822    0.000000      1   \n",
      "\n",
      "                      relative_frequency  cumulative_relative_frequency  \n",
      "class                                                                    \n",
      "(-3.535, 654.369]               0.822823                       0.822823  \n",
      "(654.369, 1305.76]              0.126126                       0.948949  \n",
      "(1305.76, 1957.15]              0.030030                       0.978979  \n",
      "(1957.15, 2608.541]             0.006006                       0.984985  \n",
      "(2608.541, 3259.931]            0.006006                       0.990991  \n",
      "(3259.931, 3911.322]            0.006006                       0.996997  \n",
      "(3911.322, 4562.712]            0.000000                       0.996997  \n",
      "(4562.712, 5214.103]            0.000000                       0.996997  \n",
      "(5214.103, 5865.493]            0.000000                       0.996997  \n",
      "(5865.493, 6516.884]            0.003003                       1.000000  \n",
      "                        min        max     range  count  relative_frequency  \\\n",
      "class                                                                         \n",
      "(0.642, 4.666]     0.681437   4.655479  3.974042     19            0.057057   \n",
      "(4.666, 8.651]     4.705200   8.606068  3.900868     66            0.198198   \n",
      "(8.651, 12.635]    8.677449  12.602186  3.924737     59            0.177177   \n",
      "(12.635, 16.62]   12.899647  16.549423  3.649776     67            0.201201   \n",
      "(16.62, 20.604]   16.731455  20.465942  3.734487     54            0.162162   \n",
      "(20.604, 24.589]  20.702869  24.585482  3.882614     25            0.075075   \n",
      "(24.589, 28.574]  24.834614  28.552025  3.717412     17            0.051051   \n",
      "(28.574, 32.558]  28.582422  32.405629  3.823207     16            0.048048   \n",
      "(32.558, 36.543]  33.931711  36.492231  2.560520      5            0.015015   \n",
      "(36.543, 40.527]  36.927161  40.527428  3.600267      5            0.015015   \n",
      "\n",
      "                  cumulative_relative_frequency  \n",
      "class                                            \n",
      "(0.642, 4.666]                         0.057057  \n",
      "(4.666, 8.651]                         0.255255  \n",
      "(8.651, 12.635]                        0.432432  \n",
      "(12.635, 16.62]                        0.633634  \n",
      "(16.62, 20.604]                        0.795796  \n",
      "(20.604, 24.589]                       0.870871  \n",
      "(24.589, 28.574]                       0.921922  \n",
      "(28.574, 32.558]                       0.969970  \n",
      "(32.558, 36.543]                       0.984985  \n",
      "(36.543, 40.527]                       1.000000  \n",
      "                  min    max  range  count  relative_frequency  \\\n",
      "class                                                            \n",
      "(14.97, 16.99]  14.99  16.95   1.96     14            0.004616   \n",
      "(16.99, 18.99]    NaN    NaN    NaN      0            0.000000   \n",
      "(18.99, 20.99]  19.95  19.99   0.04     33            0.010880   \n",
      "(20.99, 22.99]  21.99  22.99   1.00     33            0.010880   \n",
      "(22.99, 24.99]  23.95  24.99   1.04    446            0.147049   \n",
      "(24.99, 26.99]  25.95  26.99   1.04   1257            0.414441   \n",
      "(26.99, 28.99]  27.95  28.99   1.04   1154            0.380481   \n",
      "(28.99, 30.99]  29.95  30.50   0.55     84            0.027695   \n",
      "(30.99, 32.99]    NaN    NaN    NaN      0            0.000000   \n",
      "(32.99, 34.99]  34.99  34.99   0.00     12            0.003956   \n",
      "\n",
      "                cumulative_relative_frequency  \n",
      "class                                          \n",
      "(14.97, 16.99]                       0.004616  \n",
      "(16.99, 18.99]                       0.004616  \n",
      "(18.99, 20.99]                       0.015496  \n",
      "(20.99, 22.99]                       0.026377  \n",
      "(22.99, 24.99]                       0.173426  \n",
      "(24.99, 26.99]                       0.587867  \n",
      "(26.99, 28.99]                       0.968348  \n",
      "(28.99, 30.99]                       0.996044  \n",
      "(30.99, 32.99]                       0.996044  \n",
      "(32.99, 34.99]                       1.000000  \n",
      "                        min      max   range  count  relative_frequency  \\\n",
      "class                                                                     \n",
      "(-76.0, 7600.0]         0.0   7458.0  7458.0  11619            0.997682   \n",
      "(7600.0, 15200.0]    8140.0  15100.0  6960.0     12            0.001030   \n",
      "(15200.0, 22800.0]  15900.0  21715.0  5815.0      9            0.000773   \n",
      "(22800.0, 30400.0]      NaN      NaN     NaN      0            0.000000   \n",
      "(30400.0, 38000.0]  37000.0  37000.0     0.0      2            0.000172   \n",
      "(38000.0, 45600.0]  38490.0  41400.0  2910.0      2            0.000172   \n",
      "(45600.0, 53200.0]      NaN      NaN     NaN      0            0.000000   \n",
      "(53200.0, 60800.0]      NaN      NaN     NaN      0            0.000000   \n",
      "(60800.0, 68400.0]      NaN      NaN     NaN      0            0.000000   \n",
      "(68400.0, 76000.0]  75100.0  76000.0   900.0      2            0.000172   \n",
      "\n",
      "                    cumulative_relative_frequency  \n",
      "class                                              \n",
      "(-76.0, 7600.0]                          0.997682  \n",
      "(7600.0, 15200.0]                        0.998712  \n",
      "(15200.0, 22800.0]                       0.999485  \n",
      "(22800.0, 30400.0]                       0.999485  \n",
      "(30400.0, 38000.0]                       0.999657  \n",
      "(38000.0, 45600.0]                       0.999828  \n",
      "(45600.0, 53200.0]                       0.999828  \n",
      "(53200.0, 60800.0]                       0.999828  \n",
      "(60800.0, 68400.0]                       0.999828  \n",
      "(68400.0, 76000.0]                       1.000000  \n"
     ]
    }
   ],
   "source": [
    "generate_frequence_table(near_earth_objects, 'estimated_diameter.meters.estimated_diameter_max',10)\n",
    "generate_frequence_table(near_earth_objects, 'relative_velocity.kilometers_per_second',10)\n",
    "generate_frequence_table(new_york_times_bestsellers, 'price.numberDouble',10)\n",
    "generate_frequence_table(melbourne_housing, 'land_size',10)"
   ]
  },
  {
   "cell_type": "code",
   "execution_count": null,
   "metadata": {},
   "outputs": [],
   "source": []
  }
 ],
 "metadata": {
  "kernelspec": {
   "display_name": "venv",
   "language": "python",
   "name": "python3"
  },
  "language_info": {
   "codemirror_mode": {
    "name": "ipython",
    "version": 3
   },
   "file_extension": ".py",
   "mimetype": "text/x-python",
   "name": "python",
   "nbconvert_exporter": "python",
   "pygments_lexer": "ipython3",
   "version": "3.11.3"
  }
 },
 "nbformat": 4,
 "nbformat_minor": 4
}
